{
 "cells": [
  {
   "cell_type": "code",
   "execution_count": 1,
   "id": "10f64f5c",
   "metadata": {},
   "outputs": [],
   "source": [
    "import pandas as pd\n",
    "import numpy as np\n",
    "from sklearn.linear_model import LogisticRegression\n",
    "from sklearn.model_selection import train_test_split"
   ]
  },
  {
   "cell_type": "code",
   "execution_count": 2,
   "id": "19cb3c17",
   "metadata": {},
   "outputs": [],
   "source": [
    "#Wykorzystanie różnorodynch cech\n",
    "\n",
    "data = pd.read_csv('titanic.tsv', sep='\\t')\n",
    "prev_data = data.copy()\n",
    "\n",
    "data['Sex'] = data['Sex'].apply(lambda x: 0 if x == 'male' else 1)\n",
    "data['Age'] = data['Age'].fillna(int(data['Age'].mean()))\n",
    "data['Cabin'] = data['Cabin'].fillna(0).apply(lambda x: 1 if x != 0 else x)\n",
    "data['Fare'] = data['Fare'].round(0)\n",
    "\n",
    "emb_list = {j:i for i,j in enumerate(pd.unique(data[\"Embarked\"]))}\n",
    "data['Embarked'] = data['Embarked'].apply(lambda x: emb_list[x])\n",
    "\n",
    "data['Name'] = data['Name'].str.split('\\t ', expand=True)[1].str.split('.', expand=True)[0]\n",
    "titles_dict = {j:i for i,j in enumerate(pd.unique(data['Name']))}\n",
    "data['Name'] = data['Name'].apply(lambda x: titles_dict[x])\n",
    "\n",
    "data ['Ticket'] = pd.to_numeric(data['Ticket'], errors='coerce').fillna(0).apply(lambda x: 1 if x != 0 else x)"
   ]
  },
  {
   "cell_type": "code",
   "execution_count": 3,
   "id": "3a2bf7f1",
   "metadata": {},
   "outputs": [
    {
     "data": {
      "text/plain": [
       "0.7718446601941747"
      ]
     },
     "execution_count": 3,
     "metadata": {},
     "output_type": "execute_result"
    }
   ],
   "source": [
    "#Przygotowanie danych to uczenia\n",
    "X = data.drop('Survived', axis=1)\n",
    "y = data['Survived']\n",
    "\n",
    "#Podzielenie na zbiore uczacy i testowy\n",
    "X_train, X_test, y_train, y_test = train_test_split(X, y, test_size = 0.33, random_state = 0)\n",
    "\n",
    "#Stworzenie modelu\n",
    "model = LogisticRegression(solver='newton-cg').fit(X_train, y_train)\n",
    "\n",
    "y_pred = model.predict(X_test)\n",
    "\n",
    "#Ewaluacja\n",
    "model.score(X_test, y_test)"
   ]
  }
 ],
 "metadata": {
  "kernelspec": {
   "display_name": "Python 3",
   "language": "python",
   "name": "python3"
  },
  "language_info": {
   "codemirror_mode": {
    "name": "ipython",
    "version": 3
   },
   "file_extension": ".py",
   "mimetype": "text/x-python",
   "name": "python",
   "nbconvert_exporter": "python",
   "pygments_lexer": "ipython3",
   "version": "3.10.6 (main, Nov 14 2022, 16:10:14) [GCC 11.3.0]"
  },
  "vscode": {
   "interpreter": {
    "hash": "916dbcbb3f70747c44a77c7bcd40155683ae19c65e1c03b4aa3499c5328201f1"
   }
  }
 },
 "nbformat": 4,
 "nbformat_minor": 5
}
