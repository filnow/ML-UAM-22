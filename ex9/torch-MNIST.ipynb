{
 "cells": [
  {
   "cell_type": "code",
   "execution_count": 1,
   "metadata": {},
   "outputs": [
    {
     "name": "stdout",
     "output_type": "stream",
     "text": [
      "cuda\n"
     ]
    }
   ],
   "source": [
    "import torch\n",
    "import torch.nn as nn\n",
    "import torch.nn.functional as F\n",
    "from torch.utils.data import Dataset, DataLoader\n",
    "from torchvision import transforms, utils\n",
    "\n",
    "from sklearn.model_selection import train_test_split\n",
    "import pandas as pd\n",
    "import numpy as np\n",
    "import matplotlib.pyplot as plt\n",
    "\n",
    "device = torch.device(\"cuda\" if torch.cuda.is_available() else \"cpu\")\n",
    "print(device)\n",
    "%matplotlib inline"
   ]
  },
  {
   "cell_type": "code",
   "execution_count": 2,
   "metadata": {},
   "outputs": [
    {
     "name": "stdout",
     "output_type": "stream",
     "text": [
      "(33600, 28, 28)\n",
      "(33600,)\n",
      "(8400, 28, 28)\n",
      "(28000, 28, 28)\n"
     ]
    }
   ],
   "source": [
    "train_data = pd.read_csv('train.csv')\n",
    "test_data = pd.read_csv('test.csv')\n",
    "\n",
    "X_data = (train_data.drop(train_data.columns[0], axis=1).values).astype('float32')\n",
    "#X = train_data.values\n",
    "y_data = train_data['label'].values\n",
    "\n",
    "X_test = (test_data.values).astype('float32')\n",
    "\n",
    "#to transform\n",
    "train_mean = X_data.mean()/255\n",
    "train_std = X_data.std()/255\n",
    "\n",
    "X_train, X_val, y_train, y_val = train_test_split(X_data, y_data, test_size=0.2, random_state=1)\n",
    "\n",
    "\n",
    "X_train = X_train.reshape(-1, 28, 28)\n",
    "X_val = X_val.reshape(-1, 28, 28)\n",
    "X_test = X_test.reshape(-1, 28, 28)\n",
    "\n",
    "print(X_train.shape)\n",
    "print(y_train.shape)\n",
    "print(X_val.shape)\n",
    "print(X_test.shape)"
   ]
  },
  {
   "cell_type": "code",
   "execution_count": 3,
   "metadata": {},
   "outputs": [
    {
     "data": {
      "image/png": "[encoded data removed]",
      "text/plain": [
       "<Figure size 640x480 with 3 Axes>"
      ]
     },
     "metadata": {},
     "output_type": "display_data"
    }
   ],
   "source": [
    "#train samples\n",
    "for i in range(6, 9):\n",
    "    plt.subplot(330 + (i+1))\n",
    "    plt.imshow(X_train[i].squeeze(), cmap=plt.get_cmap('gray'))\n",
    "    plt.title(y_train[i])"
   ]
  },
  {
   "cell_type": "code",
   "execution_count": 4,
   "metadata": {},
   "outputs": [],
   "source": [
    "class MNISTDataset(Dataset):\n",
    "    def __init__(self, X, y, transform=None):\n",
    "        \n",
    "        self.X = X\n",
    "        self.y = y\n",
    "        self.transform = transform\n",
    "\n",
    "    def __len__(self):\n",
    "        \n",
    "        return len(self.X)\n",
    "\n",
    "    def __getitem__(self, n):\n",
    "        \n",
    "        image = self.X[n].reshape((28,28)).astype(np.uint8)\n",
    "        label = self.y[n]\n",
    "        \n",
    "        if self.transform:\n",
    "            \n",
    "            image = self.transform(image)\n",
    "        \n",
    "        return (image, label)"
   ]
  },
  {
   "cell_type": "code",
   "execution_count": 5,
   "metadata": {},
   "outputs": [],
   "source": [
    "# Initialize transformation, datasets, and loaders\n",
    "batch_size = 32\n",
    "classes = range(10)\n",
    "train_transform = transforms.Compose(\n",
    "                    [\n",
    "                    transforms.ToPILImage(),\n",
    "#                     transforms.RandomRotation(30),\n",
    "                    transforms.RandomAffine(degrees=20, translate=(0.1,0.1), scale=(0.9, 1.1)),\n",
    "                    transforms.ColorJitter(brightness=0.2, contrast=0.2),\n",
    "                    transforms.ToTensor(),\n",
    "                    transforms.Normalize(mean=[train_mean], std=[train_std]),\n",
    "                    ])\n",
    "# don't (really) need the data augmentation in validation\n",
    "val_transform = transforms.Compose(\n",
    "                    [\n",
    "                    transforms.ToPILImage(),\n",
    "                    transforms.ToTensor(),\n",
    "                    transforms.Normalize(mean=[train_mean], std=[train_std]),\n",
    "                    ])\n",
    "\n",
    "test_transform = val_transform\n",
    "\n",
    "train_dataset = MNISTDataset(X_train, y_train, transform = train_transform)\n",
    "train_loader = DataLoader(dataset=train_dataset,\n",
    "                                batch_size=batch_size,shuffle = True)\n",
    "val_dataset = MNISTDataset(X_val, y_val, transform = val_transform)\n",
    "val_loader = DataLoader(dataset=val_dataset,\n",
    "                                batch_size=batch_size,shuffle = False)"
   ]
  },
  {
   "cell_type": "code",
   "execution_count": 6,
   "metadata": {},
   "outputs": [
    {
     "name": "stdout",
     "output_type": "stream",
     "text": [
      "4\n"
     ]
    },
    {
     "data": {
      "text/plain": [
       "<matplotlib.image.AxesImage at 0x2868e7eb160>"
      ]
     },
     "execution_count": 6,
     "metadata": {},
     "output_type": "execute_result"
    },
    {
     "data": {
      "image/png": "[encoded data removed]",
      "text/plain": [
       "<Figure size 640x480 with 1 Axes>"
      ]
     },
     "metadata": {},
     "output_type": "display_data"
    }
   ],
   "source": [
    "imgs, lbls = next(iter(train_loader))\n",
    "print(classes[lbls[0]])\n",
    "plt.imshow(imgs[0].data.reshape((28,28)), cmap=\"gray\")"
   ]
  },
  {
   "cell_type": "code",
   "execution_count": 7,
   "metadata": {},
   "outputs": [],
   "source": [
    "class SqueezeExiteBlock(nn.Module):\n",
    "    def __init__(self, filters: int) -> None:\n",
    "        super().__init__()\n",
    "        self.fc1 = nn.Linear(filters, filters//32)\n",
    "        self.fc2 = nn.Linear(filters//32, filters)\n",
    "        self.dropout = nn.Dropout()\n",
    "\n",
    "    def forward(self, x: torch.Tensor) -> torch.Tensor:\n",
    "\n",
    "        x_squeezed = F.adaptive_avg_pool2d(x, 1)\n",
    "\n",
    "        x_squeezed = x_squeezed.view((-1, 128))\n",
    "        x_squeezed = F.relu(self.fc1(self.dropout(x_squeezed)), inplace=True)\n",
    "\n",
    "        x_squeezed = torch.sigmoid(self.fc2(self.dropout(x_squeezed))).view((-1, 128, 1, 1))\n",
    "\n",
    "        x_squeezed = x.mul(x_squeezed)\n",
    "\n",
    "        return x_squeezed\n",
    "\n",
    "\n",
    "class BasicConvBlock(nn.Module):\n",
    "    def __init__(self, h: int, w: int, inp: int , filters: int = 128) -> None:\n",
    "        super().__init__()\n",
    "        self.h, self.w = h, w\n",
    "        self.inp = inp\n",
    "\n",
    "        self.conv = nn.Sequential(\n",
    "            nn.Conv2d(inp, filters, kernel_size=3, padding=1),\n",
    "            nn.ReLU(inplace=True),\n",
    "            nn.Conv2d(filters, filters, kernel_size=3, padding=1),\n",
    "            nn.ReLU(inplace=True),\n",
    "            nn.Conv2d(filters, filters, kernel_size=3, padding=1),\n",
    "            nn.ReLU(inplace=True)\n",
    "        )\n",
    "        \n",
    "        self.bn = nn.BatchNorm2d(128)\n",
    "        self.se = SqueezeExiteBlock(128) \n",
    "\n",
    "    def forward(self, x: torch.Tensor) -> torch.Tensor:\n",
    "        \n",
    "        x = x.view((-1, self.inp, self.w, self.h))\n",
    "\n",
    "        x = self.conv(x)\n",
    "\n",
    "        x = self.bn(x)\n",
    "        x = self.se(x)\n",
    "\n",
    "        return x\n",
    "\n",
    "\n",
    "class MNIST(nn.Module):\n",
    "    def __init__(self) -> None:\n",
    "        super().__init__()\n",
    "        self.block1 = BasicConvBlock(28,28,1)\n",
    "        self.block2 = BasicConvBlock(28,28,128)\n",
    "        self.block3 = BasicConvBlock(14,14,128)\n",
    "\n",
    "        self.avg = nn.AvgPool2d(kernel_size=2)\n",
    "        self.global_avg = nn.AdaptiveAvgPool2d((1,1))\n",
    "        self.global_max = nn.AdaptiveMaxPool2d((1,1))\n",
    "\n",
    "        self.fc = nn.Linear(128, 10, bias=False)\n",
    "        self.dropout = nn.Dropout()\n",
    "\n",
    "    def forward(self, x: torch.Tensor) -> torch.Tensor:\n",
    "\n",
    "        x = self.block1(x)\n",
    "        x = self.block2(x)\n",
    "        x = self.avg(x)\n",
    "\n",
    "        x = self.block3(x)\n",
    "        \n",
    "        x1 = self.global_avg(x).view((-1,128))\n",
    "        x2 = self.global_max(x).view((-1,128))\n",
    "        x0 = self.fc(self.dropout(x1)) + self.fc(self.dropout(x2))\n",
    "        \n",
    "        return x0 \n"
   ]
  },
  {
   "cell_type": "code",
   "execution_count": 8,
   "metadata": {},
   "outputs": [],
   "source": [
    "#check how many preds match labels\n",
    "\n",
    "def get_num_correct(preds, labels):\n",
    "    return preds.argmax(dim=1).eq(labels).sum().item()"
   ]
  },
  {
   "cell_type": "code",
   "execution_count": 9,
   "metadata": {},
   "outputs": [
    {
     "name": "stdout",
     "output_type": "stream",
     "text": [
      " Val Loss:  3.0742568969726562\n",
      " Val Acc:  97.04761904761905\n",
      " Val Loss:  0.21710875630378723\n",
      " Val Acc:  97.42857142857143\n",
      " Val Loss:  1.0279923677444458\n",
      " Val Acc:  98.03571428571428\n",
      " Val Loss:  0.3466305732727051\n",
      " Val Acc:  98.55952380952381\n",
      " Val Loss:  0.01640661619603634\n",
      " Val Acc:  98.63095238095238\n",
      " Val Loss:  0.012193042784929276\n",
      " Val Acc:  98.92857142857143\n",
      " Val Loss:  0.0337529331445694\n",
      " Val Acc:  98.88095238095238\n",
      " Val Loss:  0.020176853984594345\n",
      " Val Acc:  98.90476190476191\n",
      " Val Loss:  0.014630752615630627\n",
      " Val Acc:  99.21428571428571\n",
      " Val Loss:  0.026989523321390152\n",
      " Val Acc:  99.09523809523809\n",
      " Val Loss:  0.017954574897885323\n",
      " Val Acc:  99.26190476190476\n",
      " Val Loss:  0.02359645999968052\n",
      " Val Acc:  99.26190476190476\n",
      " Val Loss:  0.02755032479763031\n",
      " Val Acc:  99.25\n",
      " Val Loss:  0.014469550922513008\n",
      " Val Acc:  99.39285714285714\n",
      " Val Loss:  0.010991139337420464\n",
      " Val Acc:  99.41666666666666\n",
      " Val Loss:  0.003873673966154456\n",
      " Val Acc:  99.44047619047619\n",
      " Val Loss:  0.004463124554604292\n",
      " Val Acc:  99.42857142857143\n",
      " Val Loss:  0.004928444046527147\n",
      " Val Acc:  99.41666666666666\n",
      " Val Loss:  0.0056189545430243015\n",
      " Val Acc:  99.44047619047619\n",
      " Val Loss:  0.005960357841104269\n",
      " Val Acc:  99.41666666666666\n"
     ]
    }
   ],
   "source": [
    "#TRAIN\n",
    "\n",
    "model = MNIST()\n",
    "model.to(device)\n",
    "\n",
    "lr = 0.001\n",
    "epochs = 20\n",
    "\n",
    "loss_function = nn.CrossEntropyLoss()\n",
    "optimizer = torch.optim.Adam(model.parameters(), lr=lr)\n",
    "exp_lr_scheduler = torch.optim.lr_scheduler.MultiStepLR(optimizer, milestones=[13,16,19], gamma=0.1)\n",
    "\n",
    "for epoch in range(epochs):\n",
    "\n",
    "    epoch_loss = 0\n",
    "    epoch_correct = 0\n",
    "\n",
    "    model.train()\n",
    "\n",
    "    for images, labels in train_loader:\n",
    "        \n",
    "        cuda_images = images.to(device)\n",
    "        cuda_labels = labels.to(device)\n",
    "        \n",
    "        preds = model(cuda_images)\n",
    "        optimizer.zero_grad()\n",
    "        \n",
    "        loss = loss_function(preds, cuda_labels)\n",
    "\n",
    "        loss.backward() \n",
    "        optimizer.step()\n",
    "\n",
    "        epoch_loss += loss.item() * batch_size\n",
    "        epoch_correct += get_num_correct(preds, cuda_labels)\n",
    "        \n",
    "        \n",
    "    exp_lr_scheduler.step()\n",
    "    model.eval()\n",
    "\n",
    "    val_loss = 0\n",
    "    val_correct = 0\n",
    "\n",
    "    with torch.no_grad():\n",
    "        for images, labels in val_loader:\n",
    "            \n",
    "            cuda_images = images.to(device)\n",
    "            cuda_labels = labels.to(device)\n",
    "            \n",
    "            preds = model(cuda_images) \n",
    "            loss = loss_function(preds, cuda_labels) \n",
    "            \n",
    "            val_correct += get_num_correct(preds, cuda_labels)\n",
    "            val_loss = loss.item() * batch_size\n",
    "\n",
    "    print(\" Val Loss: \", val_loss)\n",
    "    print(\" Val Acc: \", (val_correct/len(X_val))*100)"
   ]
  },
  {
   "cell_type": "code",
   "execution_count": 10,
   "metadata": {},
   "outputs": [],
   "source": [
    "torch.save(model, 'mnist_weights.pth')"
   ]
  }
 ],
 "metadata": {
  "kernelspec": {
   "display_name": "Python 3 (ipykernel)",
   "language": "python",
   "name": "python3"
  },
  "language_info": {
   "codemirror_mode": {
    "name": "ipython",
    "version": 3
   },
   "file_extension": ".py",
   "mimetype": "text/x-python",
   "name": "python",
   "nbconvert_exporter": "python",
   "pygments_lexer": "ipython3",
   "version": "3.9.13"
  }
 },
 "nbformat": 4,
 "nbformat_minor": 2
}
