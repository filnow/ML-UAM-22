{
 "cells": [
  {
   "cell_type": "code",
   "execution_count": 2,
   "metadata": {},
   "outputs": [],
   "source": [
    "import torch\n",
    "import torch.nn as nn\n",
    "import torch.nn.functional as F\n",
    "from torch.utils.data import Dataset, DataLoader\n",
    "from torchvision import transforms, utils\n",
    "\n",
    "from sklearn.model_selection import train_test_split\n",
    "import pandas as pd\n",
    "import numpy as np\n",
    "import matplotlib.pyplot as plt\n",
    "\n",
    "device = torch.device(\"cuda\" if torch.cuda.is_available() else \"cpu\")\n",
    "\n",
    "%matplotlib inline"
   ]
  },
  {
   "cell_type": "code",
   "execution_count": 3,
   "metadata": {},
   "outputs": [
    {
     "name": "stdout",
     "output_type": "stream",
     "text": [
      "(33600, 28, 28)\n",
      "(33600,)\n",
      "(8400, 28, 28)\n",
      "(28000, 28, 28)\n"
     ]
    }
   ],
   "source": [
    "train_data = pd.read_csv('train.csv')\n",
    "test_data = pd.read_csv('test.csv')\n",
    "\n",
    "X_data = (train_data.drop(train_data.columns[0], axis=1).values).astype('float32')\n",
    "#X = train_data.values\n",
    "y_data = train_data['label'].values\n",
    "\n",
    "X_test = (test_data.values).astype('float32')\n",
    "\n",
    "#to transform\n",
    "train_mean = X_data.mean()/255\n",
    "train_std = X_data.std()/255\n",
    "\n",
    "X_train, X_val, y_train, y_val = train_test_split(X_data, y_data, test_size=0.2, random_state=1)\n",
    "\n",
    "\n",
    "X_train = X_train.reshape(-1, 28, 28)\n",
    "X_val = X_val.reshape(-1, 28, 28)\n",
    "X_test = X_test.reshape(-1, 28, 28)\n",
    "\n",
    "print(X_train.shape)\n",
    "print(y_train.shape)\n",
    "print(X_val.shape)\n",
    "print(X_test.shape)"
   ]
  },
  {
   "cell_type": "code",
   "execution_count": 4,
   "metadata": {},
   "outputs": [
    {
     "data": {
      "image/png": "[encoded data removed]",
      "text/plain": [
       "<Figure size 432x288 with 3 Axes>"
      ]
     },
     "metadata": {
      "needs_background": "light"
     },
     "output_type": "display_data"
    }
   ],
   "source": [
    "#train samples\n",
    "for i in range(6, 9):\n",
    "    plt.subplot(330 + (i+1))\n",
    "    plt.imshow(X_train[i].squeeze(), cmap=plt.get_cmap('gray'))\n",
    "    plt.title(y_train[i])"
   ]
  },
  {
   "cell_type": "code",
   "execution_count": 5,
   "metadata": {},
   "outputs": [],
   "source": [
    "class MNISTDataset(Dataset):\n",
    "    def __init__(self, X, y, transform=None):\n",
    "        \n",
    "        self.X = X\n",
    "        self.y = y\n",
    "        self.transform = transform\n",
    "\n",
    "    def __len__(self):\n",
    "        \n",
    "        return len(self.X)\n",
    "\n",
    "    def __getitem__(self, n):\n",
    "        \n",
    "        image = self.X[n].reshape((28,28)).astype(np.uint8)\n",
    "        label = self.y[n]\n",
    "        \n",
    "        if self.transform:\n",
    "            \n",
    "            image = self.transform(image)\n",
    "        \n",
    "        return (image, label)"
   ]
  },
  {
   "cell_type": "code",
   "execution_count": 6,
   "metadata": {},
   "outputs": [],
   "source": [
    "# Initialize transformation, datasets, and loaders\n",
    "batch_size = 32\n",
    "classes = range(10)\n",
    "train_transform = transforms.Compose(\n",
    "                    [\n",
    "                    transforms.ToPILImage(),\n",
    "#                     transforms.RandomRotation(30),\n",
    "                    transforms.RandomAffine(degrees=20, translate=(0.1,0.1), scale=(0.9, 1.1)),\n",
    "                    transforms.ColorJitter(brightness=0.2, contrast=0.2),\n",
    "                    transforms.ToTensor(),\n",
    "                    transforms.Normalize(mean=[train_mean], std=[train_std]),\n",
    "                    ])\n",
    "# don't (really) need the data augmentation in validation\n",
    "val_transform = transforms.Compose(\n",
    "                    [\n",
    "                    transforms.ToPILImage(),\n",
    "                    transforms.ToTensor(),\n",
    "                    transforms.Normalize(mean=[train_mean], std=[train_std]),\n",
    "                    ])\n",
    "\n",
    "test_transform = val_transform\n",
    "\n",
    "train_dataset = MNISTDataset(X_train, y_train, transform = train_transform)\n",
    "train_loader = DataLoader(dataset=train_dataset,\n",
    "                                batch_size=batch_size,shuffle = True)\n",
    "val_dataset = MNISTDataset(X_val, y_val, transform = val_transform)\n",
    "val_loader = DataLoader(dataset=val_dataset,\n",
    "                                batch_size=batch_size,shuffle = False)"
   ]
  },
  {
   "cell_type": "code",
   "execution_count": 11,
   "metadata": {},
   "outputs": [
    {
     "name": "stdout",
     "output_type": "stream",
     "text": [
      "5\n"
     ]
    },
    {
     "data": {
      "text/plain": [
       "<matplotlib.image.AxesImage at 0x7f0415d6f6d0>"
      ]
     },
     "execution_count": 11,
     "metadata": {},
     "output_type": "execute_result"
    },
    {
     "data": {
      "image/png": "[encoded data removed]",
      "text/plain": [
       "<Figure size 432x288 with 1 Axes>"
      ]
     },
     "metadata": {
      "needs_background": "light"
     },
     "output_type": "display_data"
    }
   ],
   "source": [
    "imgs, lbls = next(iter(train_loader))\n",
    "print(classes[lbls[0]])\n",
    "plt.imshow(imgs[0].data.reshape((28,28)), cmap=\"gray\")"
   ]
  },
  {
   "cell_type": "code",
   "execution_count": 70,
   "metadata": {},
   "outputs": [],
   "source": [
    "class SqueezeExiteBlock(nn.Module):\n",
    "    def __init__(self, filters: int) -> None:\n",
    "        super().__init__()\n",
    "        self.fc1 = nn.Linear(filters, filters//32)\n",
    "        self.fc2 = nn.Linear(filters//32, filters)\n",
    "        self.dropout = nn.Dropout()\n",
    "\n",
    "    def forward(self, x: torch.Tensor) -> torch.Tensor:\n",
    "\n",
    "        x_squeezed = F.adaptive_avg_pool2d(x, 1)\n",
    "\n",
    "        x_squeezed = x_squeezed.view((-1, 128))\n",
    "        x_squeezed = F.relu(self.fc1(self.dropout(x_squeezed)), inplace=True)\n",
    "\n",
    "        x_squeezed = torch.sigmoid(self.fc2(self.dropout(x_squeezed))).view((-1, 128, 1, 1))\n",
    "\n",
    "        x_squeezed = x.mul(x_squeezed)\n",
    "\n",
    "        return x_squeezed\n",
    "\n",
    "\n",
    "class BasicConvBlock(nn.Module):\n",
    "    def __init__(self, h: int, w: int, inp: int , filters: int = 128) -> None:\n",
    "        super().__init__()\n",
    "        self.h, self.w = h, w\n",
    "        self.inp = inp\n",
    "\n",
    "        self.conv = nn.Sequential(\n",
    "            nn.Conv2d(inp, filters, kernel_size=3, padding=1),\n",
    "            nn.ReLU(inplace=True),\n",
    "            nn.Conv2d(filters, filters, kernel_size=3, padding=1),\n",
    "            nn.ReLU(inplace=True),\n",
    "            nn.Conv2d(filters, filters, kernel_size=3, padding=1),\n",
    "            nn.ReLU(inplace=True)\n",
    "        )\n",
    "        \n",
    "        self.bn = nn.BatchNorm2d(128)\n",
    "        self.se = SqueezeExiteBlock(128) \n",
    "\n",
    "    def forward(self, x: torch.Tensor) -> torch.Tensor:\n",
    "        \n",
    "        x = x.view((-1, self.inp, self.w, self.h))\n",
    "\n",
    "        x = self.conv(x)\n",
    "\n",
    "        x = self.bn(x)\n",
    "        x = self.se(x)\n",
    "\n",
    "        return x\n",
    "\n",
    "\n",
    "class MNIST(nn.Module):\n",
    "    def __init__(self) -> None:\n",
    "        super().__init__()\n",
    "        self.block1 = BasicConvBlock(28,28,1)\n",
    "        self.block2 = BasicConvBlock(28,28,128)\n",
    "        self.block3 = BasicConvBlock(14,14,128)\n",
    "\n",
    "        self.avg = nn.AvgPool2d(kernel_size=2)\n",
    "        self.global_avg = nn.AdaptiveAvgPool2d((1,1))\n",
    "        self.global_max = nn.AdaptiveMaxPool2d((1,1))\n",
    "\n",
    "        self.fc = nn.Linear(128, 10, bias=False)\n",
    "        self.dropout = nn.Dropout()\n",
    "\n",
    "    def forward(self, x: torch.Tensor) -> torch.Tensor:\n",
    "\n",
    "        x = self.block1(x)\n",
    "        x = self.block2(x)\n",
    "        x = self.avg(x)\n",
    "\n",
    "        x = self.block3(x)\n",
    "        \n",
    "        x1 = self.global_avg(x).view((-1,128))\n",
    "        x2 = self.global_max(x).view((-1,128))\n",
    "        x0 = self.fc(self.dropout(x1)) + self.fc(self.dropout(x2))\n",
    "        \n",
    "        return x0 \n"
   ]
  },
  {
   "cell_type": "code",
   "execution_count": 71,
   "metadata": {},
   "outputs": [],
   "source": [
    "#check how many preds match labels\n",
    "\n",
    "def get_num_correct(preds, labels):\n",
    "    return preds.argmax(dim=1).eq(labels).sum().item()"
   ]
  },
  {
   "cell_type": "code",
   "execution_count": 73,
   "metadata": {},
   "outputs": [
    {
     "ename": "KeyboardInterrupt",
     "evalue": "",
     "output_type": "error",
     "traceback": [
      "\u001b[0;31m---------------------------------------------------------------------------\u001b[0m",
      "\u001b[0;31mKeyboardInterrupt\u001b[0m                         Traceback (most recent call last)",
      "\u001b[1;32m/home/filnow/ML-UAM-22/ex9/torch-MNIST.ipynb Komórka 9\u001b[0m in \u001b[0;36m<cell line: 13>\u001b[0;34m()\u001b[0m\n\u001b[1;32m     <a href='vscode-notebook-cell:/home/filnow/ML-UAM-22/ex9/torch-MNIST.ipynb#W3sZmlsZQ%3D%3D?line=22'>23</a>\u001b[0m optimizer\u001b[39m.\u001b[39mzero_grad()\n\u001b[1;32m     <a href='vscode-notebook-cell:/home/filnow/ML-UAM-22/ex9/torch-MNIST.ipynb#W3sZmlsZQ%3D%3D?line=24'>25</a>\u001b[0m loss \u001b[39m=\u001b[39m loss_function(preds, labels)\n\u001b[0;32m---> <a href='vscode-notebook-cell:/home/filnow/ML-UAM-22/ex9/torch-MNIST.ipynb#W3sZmlsZQ%3D%3D?line=26'>27</a>\u001b[0m loss\u001b[39m.\u001b[39;49mbackward() \n\u001b[1;32m     <a href='vscode-notebook-cell:/home/filnow/ML-UAM-22/ex9/torch-MNIST.ipynb#W3sZmlsZQ%3D%3D?line=27'>28</a>\u001b[0m optimizer\u001b[39m.\u001b[39mstep()\n\u001b[1;32m     <a href='vscode-notebook-cell:/home/filnow/ML-UAM-22/ex9/torch-MNIST.ipynb#W3sZmlsZQ%3D%3D?line=29'>30</a>\u001b[0m epoch_loss \u001b[39m+\u001b[39m\u001b[39m=\u001b[39m loss\u001b[39m.\u001b[39mitem() \u001b[39m*\u001b[39m batch_size\n",
      "File \u001b[0;32m~/.local/lib/python3.10/site-packages/torch/_tensor.py:363\u001b[0m, in \u001b[0;36mTensor.backward\u001b[0;34m(self, gradient, retain_graph, create_graph, inputs)\u001b[0m\n\u001b[1;32m    354\u001b[0m \u001b[39mif\u001b[39;00m has_torch_function_unary(\u001b[39mself\u001b[39m):\n\u001b[1;32m    355\u001b[0m     \u001b[39mreturn\u001b[39;00m handle_torch_function(\n\u001b[1;32m    356\u001b[0m         Tensor\u001b[39m.\u001b[39mbackward,\n\u001b[1;32m    357\u001b[0m         (\u001b[39mself\u001b[39m,),\n\u001b[0;32m   (...)\u001b[0m\n\u001b[1;32m    361\u001b[0m         create_graph\u001b[39m=\u001b[39mcreate_graph,\n\u001b[1;32m    362\u001b[0m         inputs\u001b[39m=\u001b[39minputs)\n\u001b[0;32m--> 363\u001b[0m torch\u001b[39m.\u001b[39;49mautograd\u001b[39m.\u001b[39;49mbackward(\u001b[39mself\u001b[39;49m, gradient, retain_graph, create_graph, inputs\u001b[39m=\u001b[39;49minputs)\n",
      "File \u001b[0;32m~/.local/lib/python3.10/site-packages/torch/autograd/__init__.py:173\u001b[0m, in \u001b[0;36mbackward\u001b[0;34m(tensors, grad_tensors, retain_graph, create_graph, grad_variables, inputs)\u001b[0m\n\u001b[1;32m    168\u001b[0m     retain_graph \u001b[39m=\u001b[39m create_graph\n\u001b[1;32m    170\u001b[0m \u001b[39m# The reason we repeat same the comment below is that\u001b[39;00m\n\u001b[1;32m    171\u001b[0m \u001b[39m# some Python versions print out the first line of a multi-line function\u001b[39;00m\n\u001b[1;32m    172\u001b[0m \u001b[39m# calls in the traceback and some print out the last line\u001b[39;00m\n\u001b[0;32m--> 173\u001b[0m Variable\u001b[39m.\u001b[39;49m_execution_engine\u001b[39m.\u001b[39;49mrun_backward(  \u001b[39m# Calls into the C++ engine to run the backward pass\u001b[39;49;00m\n\u001b[1;32m    174\u001b[0m     tensors, grad_tensors_, retain_graph, create_graph, inputs,\n\u001b[1;32m    175\u001b[0m     allow_unreachable\u001b[39m=\u001b[39;49m\u001b[39mTrue\u001b[39;49;00m, accumulate_grad\u001b[39m=\u001b[39;49m\u001b[39mTrue\u001b[39;49;00m)\n",
      "\u001b[0;31mKeyboardInterrupt\u001b[0m: "
     ]
    }
   ],
   "source": [
    "#TRAIN\n",
    "\n",
    "model = MNIST()\n",
    "model.to(device)\n",
    "\n",
    "lr = 0.001\n",
    "epochs = 20\n",
    "\n",
    "loss_function = nn.CrossEntropyLoss()\n",
    "optimizer = torch.optim.Adam(model.parameters(), lr=lr)\n",
    "exp_lr_scheduler = torch.optim.lr_scheduler.MultiStepLR(optimizer, milestones=[13,16,19], gamma=0.1)\n",
    "\n",
    "for epoch in range(epochs):\n",
    "\n",
    "    epoch_loss = 0\n",
    "    epoch_correct = 0\n",
    "\n",
    "    model.train()\n",
    "\n",
    "    for images, labels in train_loader:\n",
    "\n",
    "        preds = model(images)\n",
    "        optimizer.zero_grad()\n",
    "        \n",
    "        loss = loss_function(preds, labels)\n",
    "\n",
    "        loss.backward() \n",
    "        optimizer.step()\n",
    "\n",
    "        epoch_loss += loss.item() * batch_size\n",
    "        epoch_correct += get_num_correct(preds, labels)\n",
    "\n",
    "    exp_lr_scheduler.step()\n",
    "    model.eval()\n",
    "\n",
    "    val_loss = 0\n",
    "    val_correct = 0\n",
    "\n",
    "    with torch.no_grad():\n",
    "        for images, labels in val_loader:\n",
    "           \n",
    "            preds = model(images) \n",
    "            loss = loss_function(preds, labels) \n",
    "            \n",
    "            val_correct += get_num_correct(preds, labels)\n",
    "            val_loss = loss.item() * batch_size\n",
    "\n",
    "    print(\" Val Loss: \", val_loss)\n",
    "    print(\" Val Acc: \", (val_correct/len(X_val))*100)"
   ]
  }
 ],
 "metadata": {
  "kernelspec": {
   "display_name": "Python 3 (ipykernel)",
   "language": "python",
   "name": "python3"
  },
  "language_info": {
   "codemirror_mode": {
    "name": "ipython",
    "version": 3
   },
   "file_extension": ".py",
   "mimetype": "text/x-python",
   "name": "python",
   "nbconvert_exporter": "python",
   "pygments_lexer": "ipython3",
   "version": "3.10.6"
  },
  "orig_nbformat": 4
 },
 "nbformat": 4,
 "nbformat_minor": 2
}
