{
 "cells": [
  {
   "cell_type": "code",
   "execution_count": 2,
   "id": "d9720ccd",
   "metadata": {},
   "outputs": [],
   "source": [
    "import numpy as np"
   ]
  },
  {
   "cell_type": "code",
   "execution_count": 26,
   "id": "c50bfa83",
   "metadata": {},
   "outputs": [],
   "source": [
    "X_array = np.array([[1,5,6], [4,6,7], [8,9,6]])\n",
    "X_matrix = np.matrix([[1,5,6], [4,6,7], [8,9,6]])"
   ]
  },
  {
   "cell_type": "code",
   "execution_count": 28,
   "id": "8fbbc854",
   "metadata": {},
   "outputs": [
    {
     "data": {
      "text/plain": [
       "matrix([[False, False, False],\n",
       "        [False, False, False],\n",
       "        [False, False, False]])"
      ]
     },
     "execution_count": 28,
     "metadata": {},
     "output_type": "execute_result"
    }
   ],
   "source": [
    "'''\n",
    "Przy tego typu operacji na obiekcie typu array wykonujemy podnoszenie do -1 potegi dla kazdego z elementow\n",
    "co nie jest poprawne.\n",
    "Na obiekcie typu matrix odwracanie macierzy nastepuje poprawnie\n",
    "'''\n",
    "X_array**-1.0 == X_matrix**-1"
   ]
  },
  {
   "cell_type": "code",
   "execution_count": 23,
   "id": "fcef894f",
   "metadata": {},
   "outputs": [
    {
     "data": {
      "text/plain": [
       "matrix([[ True,  True,  True],\n",
       "        [ True,  True,  True],\n",
       "        [ True,  True,  True]])"
      ]
     },
     "execution_count": 23,
     "metadata": {},
     "output_type": "execute_result"
    }
   ],
   "source": [
    "#Do poprawnego obrocenia macierzy typu array wykorzystujemy:\n",
    "np.linalg.inv(X_array) == X_matrix**-1"
   ]
  },
  {
   "cell_type": "code",
   "execution_count": 24,
   "id": "df6cce94",
   "metadata": {},
   "outputs": [
    {
     "data": {
      "text/plain": [
       "matrix([[ True,  True,  True],\n",
       "        [ True,  True,  True],\n",
       "        [ True,  True,  True]])"
      ]
     },
     "execution_count": 24,
     "metadata": {},
     "output_type": "execute_result"
    }
   ],
   "source": [
    "#Dla obrocenia macierzy o typie matrix mozemy zastosowac takze I:\n",
    "np.linalg.inv(X_array) == X_matrix.I"
   ]
  }
 ],
 "metadata": {
  "kernelspec": {
   "display_name": "Python 3 (ipykernel)",
   "language": "python",
   "name": "python3"
  }
 },
 "nbformat": 4,
 "nbformat_minor": 5
}
