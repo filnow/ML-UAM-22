{
 "cells": [
  {
   "cell_type": "code",
   "execution_count": 1,
   "id": "5e8f35d5",
   "metadata": {},
   "outputs": [],
   "source": [
    "import pandas as pd\n",
    "import numpy as np\n",
    "import matplotlib.pyplot as plt\n",
    "%matplotlib inline"
   ]
  },
  {
   "cell_type": "code",
   "execution_count": 5,
   "id": "93b472c9",
   "metadata": {},
   "outputs": [],
   "source": [
    "import pandas as pd\n",
    "\n",
    "data = pd.read_csv(\"fires_thefts.csv\")\n",
    "\n",
    "x = data[\"6.2\"].to_numpy()\n",
    "y = data[\"29\"].to_numpy()\n",
    "\n",
    "m, n_plus_1 = data.values.shape\n",
    "n = n_plus_1 - 1"
   ]
  },
  {
   "cell_type": "code",
   "execution_count": 6,
   "id": "418409fd",
   "metadata": {},
   "outputs": [],
   "source": [
    "def h(theta, x):\n",
    "    return theta[0] + theta[1] * x\n",
    "\n",
    "def J(h, theta, x, y):\n",
    "    \"\"\"Funkcja kosztu\"\"\"\n",
    "    m = len(y)\n",
    "    return 1.0 / (2 * m) * sum((h(theta, x[i]) - y[i]) ** 2 for i in range(m))\n",
    "\n",
    "def costfun(fun, x, y):\n",
    "    return lambda theta: J(fun, theta, x, y)\n",
    "\n",
    "def gradient_descent(h, cost_fun, theta, x, y, alpha, eps):\n",
    "    current_cost = cost_fun(h, theta, x, y)\n",
    "    history = [\n",
    "        [current_cost, theta]\n",
    "    ]  # zapiszmy wartości kosztu i parametrów, by potem zrobić wykres\n",
    "    m = len(y)\n",
    "    while True:\n",
    "        new_theta = [\n",
    "            theta[0] - alpha / float(m) * sum(h(theta, x[i]) - y[i] for i in range(m)),\n",
    "            theta[1]\n",
    "            - alpha / float(m) * sum((h(theta, x[i]) - y[i]) * x[i] for i in range(m)),\n",
    "        ]\n",
    "        theta = new_theta  # jednoczesna aktualizacja - używamy zmiennej tymczasowej\n",
    "        try:\n",
    "            prev_cost = current_cost\n",
    "            current_cost = cost_fun(h, theta, x, y)\n",
    "        except OverflowError:\n",
    "            break\n",
    "        if abs(prev_cost - current_cost) <= eps:\n",
    "            break\n",
    "        history.append([current_cost, theta])\n",
    "    return theta, history"
   ]
  },
  {
   "cell_type": "code",
   "execution_count": 7,
   "id": "cfdfdc8a",
   "metadata": {},
   "outputs": [
    {
     "name": "stdout",
     "output_type": "stream",
     "text": [
      "Eps:  0.1 Cost:  [234.33113622] Steps:  15\n",
      "Eps:  1.0 Cost:  [235.86258019] Steps:  11\n",
      "Eps:  10.0 Cost:  [251.15924463] Steps:  7\n",
      "Eps:  100.0 Cost:  [416.60006291] Steps:  3\n",
      "Eps:  1000.0 Cost:  [835.7195122] Steps:  1\n",
      "Eps:  10000.0 Cost:  [835.7195122] Steps:  1\n"
     ]
    }
   ],
   "source": [
    "theta_start = np.zeros((n + 1, 1))\n",
    "\n",
    "epss = [10.0**n for n in range(-1, 5)]\n",
    "costs = []\n",
    "lengths = []\n",
    "\n",
    "for eps in epss:\n",
    "    theta_best, history = gradient_descent(\n",
    "        h, J, theta_start, x, y, alpha=0.001, eps=eps\n",
    "    )\n",
    "    cost = history[-1][0]\n",
    "    steps = len(history)\n",
    "    print('Eps: ',eps, 'Cost: ', cost, 'Steps: ', steps)\n",
    "    costs.append(cost)\n",
    "    lengths.append(steps)"
   ]
  },
  {
   "cell_type": "code",
   "execution_count": 28,
   "id": "22179021",
   "metadata": {},
   "outputs": [
    {
     "data": {
      "image/png": "[encoded data removed]",
      "text/plain": [
       "<Figure size 432x288 with 2 Axes>"
      ]
     },
     "metadata": {
      "needs_background": "light"
     },
     "output_type": "display_data"
    }
   ],
   "source": [
    "#zaleznosc pomiedzy kosztem a eps - żółta linia\n",
    "#zaleznosc pomiedzy liczba krokow a eps - zielona linia\n",
    "\n",
    "def eps_cost_steps_plot(eps, costs, steps):\n",
    "    \"\"\"Wykres kosztu i liczby kroków w zależności od eps\"\"\"\n",
    "    fig, ax1 = plt.subplots()\n",
    "    ax2 = ax1.twinx()\n",
    "    ax1.plot(eps, steps, \"--s\", color=\"green\")\n",
    "    ax2.plot(eps, costs, \":o\", color=\"orange\")\n",
    "    ax1.set_xscale(\"log\")\n",
    "    ax1.set_xlabel(\"eps\")\n",
    "    ax1.set_ylabel(\"liczba kroków\", color=\"green\")\n",
    "    ax2.set_ylabel(\"koszt\", color=\"orange\")\n",
    "    plt.show()\n",
    "\n",
    "eps_cost_steps_plot(epss, costs, lengths)"
   ]
  },
  {
   "cell_type": "code",
   "execution_count": 8,
   "id": "3d64cb3e",
   "metadata": {},
   "outputs": [
    {
     "name": "stdout",
     "output_type": "stream",
     "text": [
      "Liczba kroków: 7\n",
      "\n",
      "Koszt:  [251.15924463] \n",
      "\n",
      "Paremetry krzywej regresywnej:\n",
      "\n",
      "theta0: [0.1361727], theta1: [1.88653448]\n",
      "\n",
      "Liczba pożarów: 50, Liczba włamań [94.46289651]\n",
      "\n",
      "Liczba pożarów: 100, Liczba włamań [188.78962031]\n",
      "\n",
      "Liczba pożarów: 200, Liczba włamań [377.44306793]\n",
      "\n"
     ]
    }
   ],
   "source": [
    "#eps po analizie powinnien wynosic 10^1 cost=251.16 steps=7\n",
    "#alpha powinna wynosic 0.001\n",
    "\n",
    "theta_start = np.zeros((n + 1, 1))\n",
    "theta_best, history = gradient_descent(\n",
    "    h, J, theta_start, x, y, alpha=0.001, eps=10\n",
    ")\n",
    "print(f\"Liczba kroków: {len(history)}\\n\")\n",
    "print('Koszt: ', history[-1][0], '\\n')\n",
    "print('Paremetry krzywej regresywnej:\\n')\n",
    "print(f\"theta0: {theta_best[0]}, theta1: {theta_best[1]}\\n\")\n",
    "\n",
    "\n",
    "for i in [50,100,200]:\n",
    "    \n",
    "    predicted_y = h(theta_best, i)\n",
    "    print(f'Liczba pożarów: {i}, Liczba włamań {predicted_y}\\n')"
   ]
  }
 ],
 "metadata": {
  "kernelspec": {
   "display_name": "Python 3.10.6 64-bit",
   "language": "python",
   "name": "python3"
  },
  "language_info": {
   "codemirror_mode": {
    "name": "ipython",
    "version": 3
   },
   "file_extension": ".py",
   "mimetype": "text/x-python",
   "name": "python",
   "nbconvert_exporter": "python",
   "pygments_lexer": "ipython3",
   "version": "3.10.6"
  },
  "vscode": {
   "interpreter": {
    "hash": "916dbcbb3f70747c44a77c7bcd40155683ae19c65e1c03b4aa3499c5328201f1"
   }
  }
 },
 "nbformat": 4,
 "nbformat_minor": 5
}
