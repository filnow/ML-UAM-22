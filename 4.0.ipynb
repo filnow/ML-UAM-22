{
 "cells": [
  {
   "cell_type": "code",
   "execution_count": 15,
   "id": "2c702ed8",
   "metadata": {},
   "outputs": [],
   "source": [
    "import pandas as pd"
   ]
  },
  {
   "cell_type": "code",
   "execution_count": 20,
   "id": "bf30fde4",
   "metadata": {},
   "outputs": [
    {
     "data": {
      "text/plain": [
       "0      1.0\n",
       "1      0.0\n",
       "2      1.0\n",
       "3      1.0\n",
       "4      0.0\n",
       "      ... \n",
       "618    1.0\n",
       "619    0.0\n",
       "620    1.0\n",
       "621    1.0\n",
       "622    1.0\n",
       "Name: Ticket, Length: 623, dtype: float64"
      ]
     },
     "execution_count": 20,
     "metadata": {},
     "output_type": "execute_result"
    }
   ],
   "source": [
    "data = pd.read_csv('titanic.tsv', sep='\\t')\n",
    "prev_data = data.copy()\n",
    "\n",
    "data['Sex'] = data['Sex'].apply(lambda x: 0 if x == 'male' else 1)\n",
    "data['Age'] = data['Age'].fillna(int(data['Age'].mean()))\n",
    "data['Cabin'] = data['Cabin'].fillna(0).apply(lambda x: 1 if x != 0 else x)\n",
    "data['Fare'] = data['Fare'].round(0)\n",
    "\n",
    "emb_list = {j:i for i,j in enumerate(pd.unique(data[\"Embarked\"]))}\n",
    "data['Embarked'] = data['Embarked'].apply(lambda x: emb_list[x])\n",
    "\n",
    "data['Name'] = data['Name'].str.split('\\t ', expand=True)[1].str.split('.', expand=True)[0]\n",
    "titles_dict = {j:i for i,j in enumerate(pd.unique(data['Name']))}\n",
    "data['Name'] = data['Name'].apply(lambda x: titles_dict[x])\n",
    "\n",
    "data ['Ticket'] = pd.to_numeric(data['Ticket'], errors='coerce').fillna(0).apply(lambda x: 1 if x != 0 else x)"
   ]
  },
  {
   "cell_type": "code",
   "execution_count": null,
   "id": "56d1b7b0",
   "metadata": {},
   "outputs": [],
   "source": []
  }
 ],
 "metadata": {
  "kernelspec": {
   "display_name": "Python 3 (ipykernel)",
   "language": "python",
   "name": "python3"
  },
  "language_info": {
   "codemirror_mode": {
    "name": "ipython",
    "version": 3
   },
   "file_extension": ".py",
   "mimetype": "text/x-python",
   "name": "python",
   "nbconvert_exporter": "python",
   "pygments_lexer": "ipython3",
   "version": "3.10.6"
  },
  "vscode": {
   "interpreter": {
    "hash": "916dbcbb3f70747c44a77c7bcd40155683ae19c65e1c03b4aa3499c5328201f1"
   }
  }
 },
 "nbformat": 4,
 "nbformat_minor": 5
}
